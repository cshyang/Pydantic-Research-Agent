{
 "cells": [
  {
   "cell_type": "code",
   "execution_count": 6,
   "metadata": {},
   "outputs": [],
   "source": [
    "from pydantic_ai import Agent, RunContext, Tool\n",
    "from langchain_community.retrievers import WikipediaRetriever"
   ]
  },
  {
   "cell_type": "code",
   "execution_count": 25,
   "metadata": {},
   "outputs": [],
   "source": [
    "async def wiki_research(ctx: RunContext) -> str:\n",
    "    wiki_retriever = WikipediaRetriever(top_k_results=1)\n",
    "    \"\"\"Search on wikipedia given a topic.\"\"\"\n",
    "    print(f\"Dependencies: {ctx.deps}\")\n",
    "    wiki_retriever_results = await wiki_retriever.abatch([ctx.deps])\n",
    "    wiki_docs = wiki_retriever_results\n",
    "    return \"\\n\\n\".join(\n",
    "        f\"Title: {doc[0].metadata['title']}\\n\\nContent:\\n {doc[0].page_content}\\n\\n\"\n",
    "        for doc in wiki_docs\n",
    "    )\n",
    "\n",
    "\n",
    "agent = Agent(\n",
    "    \"openai:gpt-4o-mini\",\n",
    "    deps_type=str,\n",
    "    system_prompt=(\n",
    "        \"You are a research assistant that uses Wikipedia to find information.\\n\"\n",
    "        \"ALWAYS use the wiki_research tool with the provided deps to search Wikipedia and return the results.\\n\"\n",
    "        \"Do not ask clarifying questions - immediately use the wiki_research tool with whatever topic is provided in deps.\\n\"\n",
    "    ),\n",
    "    tools=[Tool(wiki_research, takes_ctx=True)],\n",
    ")\n"
   ]
  },
  {
   "cell_type": "code",
   "execution_count": 27,
   "metadata": {},
   "outputs": [
    {
     "name": "stdout",
     "output_type": "stream",
     "text": [
      "Dependencies: climate change\n"
     ]
    },
    {
     "data": {
      "text/plain": [
       "'I\\'ve found information on climate change from Wikipedia. Here\\'s a summary:\\n\\n**Climate Change Overview:**\\n- Climate change refers to the ongoing increase in global average temperature, primarily driven by human activities like fossil fuel burning, deforestation, and certain agricultural and industrial practices. These activities release greenhouse gases, particularly carbon dioxide, which have increased in concentration by about 50% since the pre-industrial era.\\n  \\n**Environmental Impacts:**\\n- The effects of climate change include expanding deserts, increased frequency of heat waves and wildfires, thawing permafrost, and retreating glaciers. It also leads to more intense storms, droughts, and other extreme weather events. Many species face relocation or extinction due to rapid environmental changes.\\n\\n**Human Health and Safety:**\\n- Climate change poses significant threats to human health, increasing risks of flooding, extreme heat, food and water scarcity, disease, and economic loss. The World Health Organization identifies it as a major global health threat in the 21st century.\\n\\n**Future Projections and Agreements:**\\n- Observations indicate that 2024 is on track to be the warmest year on record. Under the Paris Agreement, nations aim to limit warming to \"well under 2 °C\" but projections suggest it could reach about 2.8 °C by century\\'s end. To limit warming to 1.5 °C, significant emissions reductions are necessary.\\n\\n**Mitigation Strategies:**\\n- Phasing out fossil fuel use by switching to renewable energy sources (like wind, solar, and nuclear power) and enhancing carbon capture strategies are critical steps to combat climate change.\\n\\n**Terminology:**\\n- The term \"climate change\" encompasses a broader range of changes beyond just temperature increases, including changes in precipitation and other elements of the Earth\\'s climate system.\\n\\nFor more detailed information, you can check the full article on [Wikipedia](https://en.wikipedia.org/wiki/Climate_change).'"
      ]
     },
     "execution_count": 27,
     "metadata": {},
     "output_type": "execute_result"
    }
   ],
   "source": [
    "res = await agent.run(\"Search Wikipedia for information\", deps=\"climate change\")\n",
    "res.data"
   ]
  },
  {
   "cell_type": "code",
   "execution_count": 31,
   "metadata": {},
   "outputs": [
    {
     "data": {
      "text/plain": [
       "[ModelRequest(parts=[SystemPromptPart(content='You are a research assistant that uses Wikipedia to find information.\\nALWAYS use the wiki_research tool with the provided deps to search Wikipedia and return the results.\\nDo not ask clarifying questions - immediately use the wiki_research tool with whatever topic is provided in deps.\\n', dynamic_ref=None, part_kind='system-prompt'), UserPromptPart(content='Search Wikipedia for information', timestamp=datetime.datetime(2025, 1, 20, 11, 22, 10, 703496, tzinfo=datetime.timezone.utc), part_kind='user-prompt')], kind='request'),\n",
       " ModelResponse(parts=[ToolCallPart(tool_name='wiki_research', args=ArgsJson(args_json='{}'), tool_call_id='call_wcKlpQP5OgDQxOYnghQpp8Gq', part_kind='tool-call')], timestamp=datetime.datetime(2025, 1, 20, 11, 22, 11, tzinfo=datetime.timezone.utc), kind='response'),\n",
       " ModelRequest(parts=[ToolReturnPart(tool_name='wiki_research', content='Title: Climate change\\n\\nContent:\\n Present-day climate change includes both global warming—the ongoing increase in global average temperature—and its wider effects on Earth’s climate system. Climate change in a broader sense also includes previous long-term changes to Earth\\'s climate. The current rise in global temperatures is driven by human activities, especially fossil fuel burning since the Industrial Revolution. Fossil fuel use, deforestation, and some agricultural and industrial practices release greenhouse gases. These gases absorb some of the heat that the Earth radiates after it warms from sunlight, warming the lower atmosphere. Carbon dioxide, the primary gas driving global warming, has increased in concentration by about 50% since the pre-industrial era to levels not seen for millions of years.\\nClimate change has an increasingly large impact on the environment. Deserts are expanding, while heat waves and wildfires are becoming more common. Amplified warming in the Arctic has contributed to thawing permafrost, retreat of glaciers and sea ice decline. Higher temperatures are also causing more intense storms, droughts, and other weather extremes. Rapid environmental change in mountains, coral reefs, and the Arctic is forcing many species to relocate or become extinct. Even if efforts to minimize future warming are successful, some effects will continue for centuries. These include ocean heating, ocean acidification and sea level rise.\\nClimate change threatens people with increased flooding, extreme heat, increased food and water scarcity, more disease, and economic loss. Human migration and conflict can also be a result. The World Health Organization calls climate change one of the biggest threats to global health in the 21st century. Societies and ecosystems will experience more severe risks without action to limit warming. Adapting to climate change through efforts like flood control measures or drought-resistant crops partially reduces climate change risks, although some limits to adaptation have already been reached. Poorer communities are responsible for a small share of global emissions, yet have the least ability to adapt and are most vulnerable to climate change.\\n\\nMany climate change impacts have been observed in the first decades of the 21st century, with 2024 the warmest on record at +1.60 °C (2.88 °F) since regular tracking began in 1850. Additional warming will increase these impacts and can trigger tipping points, such as melting all of the Greenland ice sheet. Under the 2015 Paris Agreement, nations collectively agreed to keep warming \"well under 2 °C\". However, with pledges made under the Agreement, global warming would still reach about 2.8 °C (5.0 °F) by the end of the century. Limiting warming to 1.5 °C would require halving emissions by 2030 and achieving net-zero emissions by 2050.\\nFossil fuel use can be phased out by conserving energy and switching to energy sources that do not produce significant carbon pollution. These energy sources include wind, solar, hydro, and nuclear power. Cleanly generated electricity can replace fossil fuels for powering transportation, heating buildings, and running industrial processes. Carbon can also be removed from the atmosphere, for instance by increasing forest cover and farming with methods that capture carbon in soil.\\n\\n\\n== Terminology ==\\nBefore the 1980s it was unclear whether the warming effect of increased greenhouse gases was stronger than the cooling effect of airborne particulates in air pollution. Scientists used the term inadvertent climate modification to refer to human impacts on the climate at this time. In the 1980s, the terms global warming and climate change became more common, often being used interchangeably. Scientifically, global warming refers only to increased surface warming, while climate change describes both global warming and its effects on Earth\\'s climate system, such as precipitation changes.\\nClimate change can also be used more broadly to include changes to the climate\\n\\n', tool_call_id='call_wcKlpQP5OgDQxOYnghQpp8Gq', timestamp=datetime.datetime(2025, 1, 20, 11, 22, 13, 798729, tzinfo=datetime.timezone.utc), part_kind='tool-return')], kind='request'),\n",
       " ModelResponse(parts=[TextPart(content='I\\'ve found information on climate change from Wikipedia. Here\\'s a summary:\\n\\n**Climate Change Overview:**\\n- Climate change refers to the ongoing increase in global average temperature, primarily driven by human activities like fossil fuel burning, deforestation, and certain agricultural and industrial practices. These activities release greenhouse gases, particularly carbon dioxide, which have increased in concentration by about 50% since the pre-industrial era.\\n  \\n**Environmental Impacts:**\\n- The effects of climate change include expanding deserts, increased frequency of heat waves and wildfires, thawing permafrost, and retreating glaciers. It also leads to more intense storms, droughts, and other extreme weather events. Many species face relocation or extinction due to rapid environmental changes.\\n\\n**Human Health and Safety:**\\n- Climate change poses significant threats to human health, increasing risks of flooding, extreme heat, food and water scarcity, disease, and economic loss. The World Health Organization identifies it as a major global health threat in the 21st century.\\n\\n**Future Projections and Agreements:**\\n- Observations indicate that 2024 is on track to be the warmest year on record. Under the Paris Agreement, nations aim to limit warming to \"well under 2 °C\" but projections suggest it could reach about 2.8 °C by century\\'s end. To limit warming to 1.5 °C, significant emissions reductions are necessary.\\n\\n**Mitigation Strategies:**\\n- Phasing out fossil fuel use by switching to renewable energy sources (like wind, solar, and nuclear power) and enhancing carbon capture strategies are critical steps to combat climate change.\\n\\n**Terminology:**\\n- The term \"climate change\" encompasses a broader range of changes beyond just temperature increases, including changes in precipitation and other elements of the Earth\\'s climate system.\\n\\nFor more detailed information, you can check the full article on [Wikipedia](https://en.wikipedia.org/wiki/Climate_change).', part_kind='text')], timestamp=datetime.datetime(2025, 1, 20, 11, 22, 14, tzinfo=datetime.timezone.utc), kind='response')]"
      ]
     },
     "execution_count": 31,
     "metadata": {},
     "output_type": "execute_result"
    }
   ],
   "source": [
    "res.new_messages()"
   ]
  },
  {
   "cell_type": "code",
   "execution_count": null,
   "metadata": {},
   "outputs": [],
   "source": []
  }
 ],
 "metadata": {
  "kernelspec": {
   "display_name": "llm-env",
   "language": "python",
   "name": "python3"
  },
  "language_info": {
   "codemirror_mode": {
    "name": "ipython",
    "version": 3
   },
   "file_extension": ".py",
   "mimetype": "text/x-python",
   "name": "python",
   "nbconvert_exporter": "python",
   "pygments_lexer": "ipython3",
   "version": "3.12.7"
  }
 },
 "nbformat": 4,
 "nbformat_minor": 2
}
